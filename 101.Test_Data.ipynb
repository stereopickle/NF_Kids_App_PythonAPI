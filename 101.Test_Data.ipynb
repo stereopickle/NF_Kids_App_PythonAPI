{
 "cells": [
  {
   "cell_type": "markdown",
   "metadata": {},
   "source": [
    "# Test Data Maker\n",
    "\n",
    "This is a simple application to manually label test data for our usage. Running below will show a text and ask if the given sentence contains the information on target symptom or not. It will automatically start off from where we left off until all descriptions have been assessed. "
   ]
  },
  {
   "cell_type": "code",
   "execution_count": 25,
   "metadata": {},
   "outputs": [],
   "source": [
    "import pandas as pd\n",
    "import joblib"
   ]
  },
  {
   "cell_type": "markdown",
   "metadata": {},
   "source": [
    "### Processing dataset\n",
    "Run this only once."
   ]
  },
  {
   "cell_type": "code",
   "execution_count": 3,
   "metadata": {},
   "outputs": [],
   "source": [
    "## transcription data\n",
    "#mt = pd.read_csv('data/medical_transcription_samples.csv', index_col = 0)"
   ]
  },
  {
   "cell_type": "code",
   "execution_count": 7,
   "metadata": {},
   "outputs": [],
   "source": [
    "## get a list of descriptions\n",
    "#descriptions = pd.concat([mt['description'], mt['transcription']])"
   ]
  },
  {
   "cell_type": "code",
   "execution_count": 14,
   "metadata": {},
   "outputs": [],
   "source": [
    "## get a list of target symptoms\n",
    "#symptoms = pd.read_json('data/symptoms.json', orient = 'table')\n",
    "#symptoms = symptoms['name']"
   ]
  },
  {
   "cell_type": "code",
   "execution_count": 23,
   "metadata": {},
   "outputs": [],
   "source": [
    "## creating full dataframe\n",
    "#df = pd.concat([descriptions,pd.DataFrame(columns=list(symptoms) + ['complete'])])\n",
    "#df.rename(columns = {0: 'description'}, inplace = True)"
   ]
  },
  {
   "cell_type": "code",
   "execution_count": 26,
   "metadata": {},
   "outputs": [
    {
     "data": {
      "text/plain": [
       "['data/test_df']"
      ]
     },
     "execution_count": 26,
     "metadata": {},
     "output_type": "execute_result"
    }
   ],
   "source": [
    "## saving the dataframe\n",
    "#joblib.dump(df, 'data/test_df')"
   ]
  },
  {
   "cell_type": "markdown",
   "metadata": {},
   "source": [
    "### Labeling App"
   ]
  },
  {
   "cell_type": "code",
   "execution_count": 27,
   "metadata": {},
   "outputs": [],
   "source": [
    "df = joblib.load('data/test_df')"
   ]
  },
  {
   "cell_type": "code",
   "execution_count": null,
   "metadata": {},
   "outputs": [],
   "source": [
    "def labeling_app(df):\n",
    "    # find incomplete rows\n",
    "    \n",
    "    # randomize the rownumber\n",
    "    \n",
    "    # find incomplete columns\n",
    "    \n",
    "    # randomize the columns\n",
    "    \n",
    "    # show the description\n",
    "    \n",
    "    # initialize the last seen variable\n",
    "    \n",
    "    # loop through the columns \n",
    "    \n",
    "        # get yes/no answer for each column\n",
    "        \n",
    "        # if yes or no, update the last seen\n",
    "        # and update the dataframe \n",
    "        \n",
    "        # if prompted to go back, bring up the last option again\n",
    "\n",
    "        # if prompted to finish, save the current dataframe and return the dataframe\n",
    "        \n",
    "        "
   ]
  }
 ],
 "metadata": {
  "kernelspec": {
   "display_name": "Python 3",
   "language": "python",
   "name": "python3"
  },
  "language_info": {
   "codemirror_mode": {
    "name": "ipython",
    "version": 3
   },
   "file_extension": ".py",
   "mimetype": "text/x-python",
   "name": "python",
   "nbconvert_exporter": "python",
   "pygments_lexer": "ipython3",
   "version": "3.7.4"
  }
 },
 "nbformat": 4,
 "nbformat_minor": 4
}
