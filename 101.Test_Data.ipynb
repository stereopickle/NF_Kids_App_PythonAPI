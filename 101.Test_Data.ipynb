{
 "cells": [
  {
   "cell_type": "markdown",
   "metadata": {},
   "source": [
    "# Test Data Maker\n",
    "\n",
    "This is a simple application to manually label test data for our usage. Running below will show a text and ask if the given sentence contains the information on target symptom or not. It will automatically start off from where we left off until all descriptions have been assessed. "
   ]
  },
  {
   "cell_type": "code",
   "execution_count": 129,
   "metadata": {},
   "outputs": [],
   "source": [
    "import pandas as pd\n",
    "import joblib\n",
    "import numpy as np\n",
    "from math import isnan\n",
    "from IPython.display import clear_output"
   ]
  },
  {
   "cell_type": "markdown",
   "metadata": {},
   "source": [
    "### Processing dataset\n",
    "Run this only once."
   ]
  },
  {
   "cell_type": "code",
   "execution_count": 3,
   "metadata": {},
   "outputs": [],
   "source": [
    "## transcription data\n",
    "#mt = pd.read_csv('data/medical_transcription_samples.csv', index_col = 0)"
   ]
  },
  {
   "cell_type": "code",
   "execution_count": 146,
   "metadata": {},
   "outputs": [],
   "source": [
    "## get a list of descriptions\n",
    "#descriptions = pd.concat([mt['description'], mt['transcription']])"
   ]
  },
  {
   "cell_type": "code",
   "execution_count": 14,
   "metadata": {},
   "outputs": [],
   "source": [
    "## get a list of target symptoms\n",
    "#symptoms = pd.read_json('data/symptoms.json', orient = 'table')\n",
    "#symptoms = symptoms['name']"
   ]
  },
  {
   "cell_type": "code",
   "execution_count": 148,
   "metadata": {},
   "outputs": [],
   "source": [
    "## creating full dataframe\n",
    "#df = pd.concat([descriptions,pd.DataFrame(columns=list(symptoms) + ['complete'])])\n",
    "#df.rename(columns = {0: 'description'}, inplace = True)\n",
    "#df.reset_index(inplace = True)\n",
    "#df = df.drop('index', axis = 1)"
   ]
  },
  {
   "cell_type": "code",
   "execution_count": 149,
   "metadata": {},
   "outputs": [
    {
     "data": {
      "text/plain": [
       "['data/test_df']"
      ]
     },
     "execution_count": 149,
     "metadata": {},
     "output_type": "execute_result"
    }
   ],
   "source": [
    "## saving the dataframe\n",
    "#joblib.dump(df, 'data/test_df')"
   ]
  },
  {
   "cell_type": "markdown",
   "metadata": {},
   "source": [
    "### Labeling App"
   ]
  },
  {
   "cell_type": "code",
   "execution_count": 150,
   "metadata": {},
   "outputs": [],
   "source": [
    "df = joblib.load('data/test_df')"
   ]
  },
  {
   "cell_type": "code",
   "execution_count": 167,
   "metadata": {},
   "outputs": [],
   "source": [
    "def labeling_app(df):\n",
    "    # find incomplete rows\n",
    "    inds = list(df[df.complete != 1].index)\n",
    "    \n",
    "    # randomize the rownumber\n",
    "    np.random.shuffle(inds)\n",
    "    ncol = df.shape[1]\n",
    "    cinds = list(range(1, ncol-1))\n",
    "    colnames = list(df.columns)\n",
    "    \n",
    "    # initialize the last seen variable\n",
    "    i, j, last_seen = 0, 0, None\n",
    "    \n",
    "    while i < len(inds):\n",
    "        row = inds[i]\n",
    "        \n",
    "        # randomize the columns\n",
    "        np.random.shuffle(cinds)\n",
    "        \n",
    "        # show the description\n",
    "        print(df.iloc[row, 0], end = '\\n=====\\n')\n",
    "        print('''Does the above description describe following symptom? (1: yes, 0: no, b: back to previous, x: exit, s: skip, p: pass this description)''')\n",
    "        \n",
    "        while j < len(cinds):\n",
    "            col = cinds[j]\n",
    "            \n",
    "            # find incomplete columns\n",
    "\n",
    "            if isnan(df.iloc[row, col]):    \n",
    "                ans = input(colnames[col])\n",
    "                \n",
    "                # if prompted to finish, save the current dataframe and return the dataframe\n",
    "                if ans == 'x': \n",
    "                    joblib.dump(df, 'data/test_df')\n",
    "                    return df\n",
    "                \n",
    "                # if prompted to go back, bring up the last option again\n",
    "                elif ans == 'b': \n",
    "                    if last_seen: \n",
    "                        i = last_seen[0]\n",
    "                        j = last_seen[1]\n",
    "                    else: \n",
    "                        print('No previous entry available.')\n",
    "                \n",
    "                # if prompted to pass the description, move on to the next description\n",
    "                elif ans == 'p': \n",
    "                    last_seen = [i, j]\n",
    "                    i += 1\n",
    "                    break\n",
    "                \n",
    "                # if prompted to skip, move to the next symptom\n",
    "                elif ans == 's': \n",
    "                    last_seen = [i, j]\n",
    "                    j += 1\n",
    "                    \n",
    "                # if yes or no, update the last seen\n",
    "                # and update the dataframe \n",
    "                elif ans in ['0', '1']: \n",
    "                    df.iloc[row, col] = int(ans)\n",
    "                    last_seen = [i, j]\n",
    "                    j += 1\n",
    "                else: \n",
    "                    print('')\n",
    "        if df.iloc[row, :-1].isnull().sum() == 0: \n",
    "            df.loc[row, 'complete'] = 1\n",
    "        i += 1\n",
    "        clear_output(wait=True)    "
   ]
  },
  {
   "cell_type": "code",
   "execution_count": null,
   "metadata": {},
   "outputs": [],
   "source": [
    "#labeling_app(df)"
   ]
  },
  {
   "cell_type": "code",
   "execution_count": null,
   "metadata": {},
   "outputs": [],
   "source": []
  }
 ],
 "metadata": {
  "kernelspec": {
   "display_name": "Python 3",
   "language": "python",
   "name": "python3"
  },
  "language_info": {
   "codemirror_mode": {
    "name": "ipython",
    "version": 3
   },
   "file_extension": ".py",
   "mimetype": "text/x-python",
   "name": "python",
   "nbconvert_exporter": "python",
   "pygments_lexer": "ipython3",
   "version": "3.7.4"
  }
 },
 "nbformat": 4,
 "nbformat_minor": 4
}
