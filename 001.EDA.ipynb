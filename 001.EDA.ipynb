{
 "cells": [
  {
   "cell_type": "markdown",
   "metadata": {},
   "source": [
    "# EDA\n",
    "This document runs a basic EDA and data cleaning in order to formulate appropriate classification algorithm and to create a clean dataset to feed as training data."
   ]
  },
  {
   "cell_type": "code",
   "execution_count": 1,
   "metadata": {},
   "outputs": [],
   "source": [
    "import pandas as pd\n",
    "import numpy as np\n",
    "import matplotlib.pyplot as plt\n",
    "%matplotlib inline"
   ]
  },
  {
   "cell_type": "code",
   "execution_count": 13,
   "metadata": {},
   "outputs": [],
   "source": [
    "df = pd.read_excel('data/NF Registry NF1 092420 v2.xls', sheet_name = 'Data')"
   ]
  },
  {
   "cell_type": "code",
   "execution_count": 29,
   "metadata": {},
   "outputs": [],
   "source": [
    "refs = pd.read_excel('data/NF Registry NF1 092420 v2.xls', sheet_name = 'Report')"
   ]
  },
  {
   "cell_type": "markdown",
   "metadata": {},
   "source": [
    "Remove the patient ID given there is no duplicates."
   ]
  },
  {
   "cell_type": "code",
   "execution_count": 22,
   "metadata": {},
   "outputs": [],
   "source": [
    "df = df.drop('Patient Id', axis = 1)"
   ]
  },
  {
   "cell_type": "code",
   "execution_count": 34,
   "metadata": {},
   "outputs": [
    {
     "name": "stdout",
     "output_type": "stream",
     "text": [
      "8223 patients data\n"
     ]
    }
   ],
   "source": [
    "print(df.shape[0], 'patients data')"
   ]
  },
  {
   "cell_type": "markdown",
   "metadata": {},
   "source": [
    "## EDA\n",
    "Since we are interested in the correlations between symptoms, I'll only look at the co-occurrence of different symptoms."
   ]
  },
  {
   "cell_type": "code",
   "execution_count": 224,
   "metadata": {},
   "outputs": [],
   "source": [
    "symptoms = df.iloc[:, 30:-2]"
   ]
  },
  {
   "cell_type": "code",
   "execution_count": 236,
   "metadata": {},
   "outputs": [],
   "source": [
    "symptoms['pain'] = np.where(df['Has Pain'] == True, 1, 0)"
   ]
  },
  {
   "cell_type": "code",
   "execution_count": 225,
   "metadata": {},
   "outputs": [],
   "source": [
    "symptoms = symptoms.fillna('')"
   ]
  },
  {
   "cell_type": "code",
   "execution_count": 226,
   "metadata": {},
   "outputs": [],
   "source": [
    "def just_yes(series_):\n",
    "    return series_.apply(lambda x: 1 if 'yes' in x.lower() else 0)"
   ]
  },
  {
   "cell_type": "code",
   "execution_count": null,
   "metadata": {},
   "outputs": [],
   "source": [
    "# manually check through each and log ones that require manual cleaning\n",
    "manual_cols = []\n",
    "for col in symptoms.columns:\n",
    "    if len(symptoms[col].unique()) < 10: \n",
    "        print(col, end = ' -- ')\n",
    "        print(symptoms[col].unique())\n",
    "        ans = input('yes only? (Y:1 / N:0)')\n",
    "        print('---------------------')\n",
    "\n",
    "        if ans == '1': \n",
    "            symptoms[col] = just_yes(symptoms[col])\n",
    "        else: \n",
    "            manual_cols.append(col)\n",
    "    else: \n",
    "        manual_cols.append(col)"
   ]
  },
  {
   "cell_type": "code",
   "execution_count": null,
   "metadata": {},
   "outputs": [],
   "source": [
    "# drop if not indicative of symptoms\n",
    "important = []\n",
    "for col in manual_cols: \n",
    "    print(col, end = ' -- ')\n",
    "    print(set([y.lstrip() for y in np.sum([x.split(',') for x in symptoms[col].unique()])]))\n",
    "    ans = input('Symptoms? (Y:1 / N:0)')\n",
    "    print('---------------------')\n",
    "\n",
    "    if ans == '1': \n",
    "        important.append(col)\n",
    "    else: \n",
    "        symptoms.drop(col, axis = 1, inplace = True)"
   ]
  },
  {
   "cell_type": "code",
   "execution_count": 245,
   "metadata": {},
   "outputs": [],
   "source": [
    "symptoms = symptoms.drop('Itching Details', axis = 1)"
   ]
  },
  {
   "cell_type": "code",
   "execution_count": 247,
   "metadata": {},
   "outputs": [],
   "source": [
    "symptoms['bowel or bladder control problem'] = symptoms['Plexiforms Problems'].apply(lambda x: 1 if 'bowel or bladder control' in x.lower() else 0)\n",
    "symptoms['breathing problem'] = symptoms['Plexiforms Problems'].apply(lambda x: 1 if 'breathing' in x.lower() else 0)\n",
    "symptoms['Problem with movement'] = symptoms['Plexiforms Problems'].apply(lambda x: 1 if 'movement or ability to walk' in x.lower() else 0)\n",
    "symptoms['Numbness'] = symptoms['Plexiforms Problems'].apply(lambda x: 1 if 'numbness' in x.lower() else 0)"
   ]
  },
  {
   "cell_type": "code",
   "execution_count": 249,
   "metadata": {},
   "outputs": [],
   "source": [
    "symptoms = symptoms.drop('Plexiforms Nf Locations', axis = 1)"
   ]
  },
  {
   "cell_type": "code",
   "execution_count": 251,
   "metadata": {},
   "outputs": [],
   "source": [
    "# ADHD: divide into learning_disability, attention_issue, and ADD/ADHD\n",
    "symptoms['learning disabilities'] = symptoms['Adhd'].apply(lambda x: 1 if 'learning disabilities' in x.lower() else 0)\n",
    "symptoms['attention issues'] = symptoms['Adhd'].apply(lambda x: 1 if 'attention issues' in x.lower() else 0)\n",
    "symptoms['ADD_ADHD'] = symptoms['Adhd'].apply(lambda x: 1 if 'ADD' in x.lower() else 0)\n",
    "symptoms = symptoms.drop('Adhd', axis = 1)"
   ]
  },
  {
   "cell_type": "code",
   "execution_count": 252,
   "metadata": {},
   "outputs": [],
   "source": [
    "# CVS: heart murmur, vascular or blood vessel issues, high blood pressure, moya moya, heart defect, pulmonic stenosis, \n",
    "# heart valve problems, renal artery stenosis\n",
    "\n",
    "cvs_types = ['heart murmur', 'vascular or blood vessel issues', 'high blood pressure', \n",
    "             'moya moya', 'heart defect', 'pulmonic stenosis', 'heart valve problems', 'renal artery stenosis']\n",
    "\n",
    "for typ in cvs_types: \n",
    "    symptoms[typ] = symptoms['Has Cvs Problems'].apply(lambda x: 1 if typ in x.lower() else 0)\n",
    "symptoms = symptoms.drop('Has Cvs Problems', axis = 1)"
   ]
  },
  {
   "cell_type": "code",
   "execution_count": 253,
   "metadata": {},
   "outputs": [],
   "source": [
    "cyst_tumor_types = ['adrenal tumor', 'bone cysts', 'brain tumor', 'breast cancer', 'gist', \n",
    "                    'gastrointestinal stromal tumors', 'glomus tumors', 'leukemia']\n",
    "\n",
    "for typ in cyst_tumor_types: \n",
    "    symptoms[typ] = symptoms['Has Cyst Tumor'].apply(lambda x: 1 if typ in x.lower() else 0)\n",
    "symptoms = symptoms.drop('Has Cyst Tumor', axis = 1)"
   ]
  },
  {
   "cell_type": "code",
   "execution_count": 254,
   "metadata": {},
   "outputs": [],
   "source": [
    "# growth hormonal problems\n",
    "hormonal_types = ['Chewing/swallowing problems',\n",
    "                  'Constipation',\n",
    "                  'Early onset of puberty (prior to the age of 8)',\n",
    "                  'Hormonal imbalance that affected pregnancy or birth control',\n",
    "                  'Large head size',\n",
    "                  'Late onset of puberty (after the age of 17)',\n",
    "                  'Over (hyper) or under (hypo) active thyroid',\n",
    "                  'Poor weight gain in childhood',\n",
    "                  'Reflux or gastroesophageal reflux (GERD)',\n",
    "                  'Short stature']\n",
    "for typ in hormonal_types: \n",
    "    symptoms[typ] = symptoms['Growth Hormonal Problems'].apply(lambda x: 1 if typ in x else 0)\n",
    "symptoms = symptoms.drop('Growth Hormonal Problems', axis = 1)"
   ]
  },
  {
   "cell_type": "code",
   "execution_count": 255,
   "metadata": {},
   "outputs": [],
   "source": [
    "# CNS\n",
    "cns_types = ['Anxiety',\n",
    "             'Arthritis',\n",
    "             'Depression',\n",
    "             'Difficulties with social interactions',\n",
    "             'Fatigue',\n",
    "             'Headaches or migraines',\n",
    "             'Hydrocephalus (extra fluid or \"water on the brain\")',\n",
    "             'Joint pain',\n",
    "             'Loose (hyperextensible) joints',\n",
    "             'Muscle tone or coordination issues',\n",
    "             'Other mental health diagnosis',\n",
    "             'Seizures or epilepsy',\n",
    "             'Sleep disturbances']\n",
    "for typ in cns_types: \n",
    "    symptoms[typ] = symptoms['Has Cns Problems'].apply(lambda x: 1 if typ in x else 0)\n",
    "\n",
    "symptoms = symptoms.drop('Has Cns Problems', axis = 1)"
   ]
  },
  {
   "cell_type": "code",
   "execution_count": 261,
   "metadata": {},
   "outputs": [],
   "source": [
    "symptoms['Vision Changes'] = [1 if x in ['Severe changes', 'Mild changes', 'Moderate changes'] else 0 for x in symptoms['Vision Changes'] ]"
   ]
  },
  {
   "cell_type": "code",
   "execution_count": 267,
   "metadata": {},
   "outputs": [],
   "source": [
    "tmp = ['Gt Blood Done', 'Gt Confirmed Nf1', 'Spots Where', 'Itching Treatment',\n",
    "       'Bone Bowing', 'Alternative Medicines', 'Plexiforms Problems', 'Family Nf1', 'Ct Nf1 Participation', 'Research Nf1']\n",
    "symptoms = symptoms.drop(tmp, axis = 1)"
   ]
  },
  {
   "cell_type": "code",
   "execution_count": null,
   "metadata": {},
   "outputs": [],
   "source": []
  }
 ],
 "metadata": {
  "kernelspec": {
   "display_name": "Python 3",
   "language": "python",
   "name": "python3"
  },
  "language_info": {
   "codemirror_mode": {
    "name": "ipython",
    "version": 3
   },
   "file_extension": ".py",
   "mimetype": "text/x-python",
   "name": "python",
   "nbconvert_exporter": "python",
   "pygments_lexer": "ipython3",
   "version": "3.7.4"
  }
 },
 "nbformat": 4,
 "nbformat_minor": 4
}
