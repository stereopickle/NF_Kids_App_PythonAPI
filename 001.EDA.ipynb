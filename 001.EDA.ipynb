{
 "cells": [
  {
   "cell_type": "markdown",
   "metadata": {},
   "source": [
    "# EDA\n",
    "This document runs a basic EDA and data cleaning in order to formulate appropriate classification algorithm and to create a clean dataset to feed as training data."
   ]
  },
  {
   "cell_type": "code",
   "execution_count": 1,
   "metadata": {},
   "outputs": [],
   "source": [
    "import pandas as pd\n",
    "import numpy as np\n",
    "import matplotlib.pyplot as plt\n",
    "%matplotlib inline"
   ]
  },
  {
   "cell_type": "code",
   "execution_count": 4,
   "metadata": {},
   "outputs": [
    {
     "name": "stdout",
     "output_type": "stream",
     "text": [
      "NF Registry NF1 092420 v2.xls\n"
     ]
    }
   ],
   "source": [
    "ls data"
   ]
  },
  {
   "cell_type": "code",
   "execution_count": 13,
   "metadata": {},
   "outputs": [],
   "source": [
    "df = pd.read_excel('data/NF Registry NF1 092420 v2.xls', sheet_name = 'Data')"
   ]
  },
  {
   "cell_type": "code",
   "execution_count": 29,
   "metadata": {},
   "outputs": [],
   "source": [
    "refs = pd.read_excel('data/NF Registry NF1 092420 v2.xls', sheet_name = 'Report')"
   ]
  },
  {
   "cell_type": "markdown",
   "metadata": {},
   "source": [
    "Remove the patient ID given there is no duplicates."
   ]
  },
  {
   "cell_type": "code",
   "execution_count": 22,
   "metadata": {},
   "outputs": [],
   "source": [
    "df = df.drop('Patient Id', axis = 1)"
   ]
  },
  {
   "cell_type": "code",
   "execution_count": 34,
   "metadata": {},
   "outputs": [
    {
     "name": "stdout",
     "output_type": "stream",
     "text": [
      "8223 patients data\n"
     ]
    }
   ],
   "source": [
    "print(df.shape[0], 'patients data')"
   ]
  },
  {
   "cell_type": "markdown",
   "metadata": {},
   "source": [
    "## EDA\n",
    "Since we are interested in the correlations between symptoms, I'll only look at the co-occurrence of different symptoms."
   ]
  },
  {
   "cell_type": "code",
   "execution_count": 176,
   "metadata": {},
   "outputs": [],
   "source": [
    "symptoms = df.iloc[:, 30:-2]"
   ]
  },
  {
   "cell_type": "code",
   "execution_count": 177,
   "metadata": {},
   "outputs": [],
   "source": [
    "target_symptoms = ['Plexiform Nf', 'Spinal Nf', 'Adhd', 'Has Autism Disorder', \n",
    "                  'Has Cvs Problems', 'Has Cyst Tumor', 'Growth Hormonal Problems', \n",
    "                  'Has Cns Problems', 'Optic Glioma Diagnosed', 'Lisch Nodules', \n",
    "                  'Mpnst', 'Sphenoid Wing Dysplasia', 'Osteoporosis', 'Scolosis']"
   ]
  },
  {
   "cell_type": "code",
   "execution_count": 178,
   "metadata": {},
   "outputs": [],
   "source": [
    "symptoms = symptoms.fillna('')"
   ]
  },
  {
   "cell_type": "code",
   "execution_count": 179,
   "metadata": {},
   "outputs": [],
   "source": [
    "# Plexiform NF: 1 for Yes, 0 for all others\n",
    "symptoms[target_symptoms[0]] = symptoms[target_symptoms[0]].apply(lambda x: 1 if 'yes' in x.lower() else 0)"
   ]
  },
  {
   "cell_type": "code",
   "execution_count": 180,
   "metadata": {},
   "outputs": [],
   "source": [
    "# Spinal NF: 1 for Yes, 0 for all others\n",
    "symptoms[target_symptoms[1]] = symptoms[target_symptoms[1]].apply(lambda x: 1 if 'yes' in x.lower() else 0)"
   ]
  },
  {
   "cell_type": "code",
   "execution_count": 181,
   "metadata": {},
   "outputs": [],
   "source": [
    "# ADHD: divide into learning_disability, attention_issue, and ADD/ADHD\n",
    "symptoms['learning disabilities'] = symptoms[target_symptoms[2]].apply(lambda x: 1 if 'learning disabilities' in x.lower() else 0)\n",
    "symptoms['attention issues'] = symptoms[target_symptoms[2]].apply(lambda x: 1 if 'attention issues' in x.lower() else 0)\n",
    "symptoms['ADD_ADHD'] = symptoms[target_symptoms[2]].apply(lambda x: 1 if 'ADD' in x.lower() else 0)\n",
    "symptoms = symptoms.drop(target_symptoms[2], axis = 1)"
   ]
  },
  {
   "cell_type": "code",
   "execution_count": 182,
   "metadata": {},
   "outputs": [],
   "source": [
    "# Autism: 1 for Yes, 0 for all others\n",
    "symptoms[target_symptoms[3]] = symptoms[target_symptoms[3]].apply(lambda x: 1 if 'yes' in x.lower() else 0)"
   ]
  },
  {
   "cell_type": "code",
   "execution_count": 183,
   "metadata": {},
   "outputs": [],
   "source": [
    "# CVS: heart murmur, vascular or blood vessel issues, high blood pressure, moya moya, heart defect, pulmonic stenosis, \n",
    "# heart valve problems, renal artery stenosis\n",
    "\n",
    "cvs_types = ['heart murmur', 'vascular or blood vessel issues', 'high blood pressure', \n",
    "             'moya moya', 'heart defect', 'pulmonic stenosis', 'heart valve problems', 'renal artery stenosis']\n",
    "\n",
    "for typ in cvs_types: \n",
    "    symptoms[typ] = symptoms[target_symptoms[4]].apply(lambda x: 1 if typ in x.lower() else 0)\n",
    "symptoms = symptoms.drop(target_symptoms[4], axis = 1)"
   ]
  },
  {
   "cell_type": "code",
   "execution_count": 184,
   "metadata": {},
   "outputs": [],
   "source": [
    "cyst_tumor_types = ['adrenal tumor', 'bone cysts', 'brain tumor', 'breast cancer', 'gist', \n",
    "                    'gastrointestinal stromal tumors', 'glomus tumors', 'leukemia']\n",
    "\n",
    "for typ in cyst_tumor_types: \n",
    "    symptoms[typ] = symptoms[target_symptoms[5]].apply(lambda x: 1 if typ in x.lower() else 0)\n",
    "symptoms = symptoms.drop(target_symptoms[5], axis = 1)"
   ]
  },
  {
   "cell_type": "code",
   "execution_count": 185,
   "metadata": {},
   "outputs": [],
   "source": [
    "# growth hormonal problems\n",
    "hormonal_types = ['Chewing/swallowing problems',\n",
    "                  'Constipation',\n",
    "                  'Early onset of puberty (prior to the age of 8)',\n",
    "                  'Hormonal imbalance that affected pregnancy or birth control',\n",
    "                  'Large head size',\n",
    "                  'Late onset of puberty (after the age of 17)',\n",
    "                  'Over (hyper) or under (hypo) active thyroid',\n",
    "                  'Poor weight gain in childhood',\n",
    "                  'Reflux or gastroesophageal reflux (GERD)',\n",
    "                  'Short stature']\n",
    "for typ in hormonal_types: \n",
    "    symptoms[typ] = symptoms[target_symptoms[6]].apply(lambda x: 1 if typ in x else 0)\n",
    "symptoms = symptoms.drop(target_symptoms[6], axis = 1)"
   ]
  },
  {
   "cell_type": "code",
   "execution_count": 186,
   "metadata": {},
   "outputs": [],
   "source": [
    "# CNS\n",
    "cns_types = ['Anxiety',\n",
    "             'Arthritis',\n",
    "             'Depression',\n",
    "             'Difficulties with social interactions',\n",
    "             'Fatigue',\n",
    "             'Headaches or migraines',\n",
    "             'Hydrocephalus (extra fluid or \"water on the brain\")',\n",
    "             'Joint pain',\n",
    "             'Loose (hyperextensible) joints',\n",
    "             'Muscle tone or coordination issues',\n",
    "             'Other mental health diagnosis',\n",
    "             'Seizures or epilepsy',\n",
    "             'Sleep disturbances']\n",
    "for typ in cns_types: \n",
    "    symptoms[typ] = symptoms[target_symptoms[7]].apply(lambda x: 1 if typ in x else 0)\n",
    "\n",
    "symptoms = symptoms.drop(target_symptoms[7], axis = 1)"
   ]
  },
  {
   "cell_type": "code",
   "execution_count": 187,
   "metadata": {},
   "outputs": [],
   "source": [
    "# Optic Glioma\n",
    "symptoms[target_symptoms[8]] = symptoms[target_symptoms[8]].apply(lambda x: 1 if 'yes' in x.lower() else 0)"
   ]
  },
  {
   "cell_type": "code",
   "execution_count": 188,
   "metadata": {},
   "outputs": [],
   "source": [
    "# Lisch Nodules\n",
    "symptoms[target_symptoms[9]] = symptoms[target_symptoms[9]].apply(lambda x: 1 if 'yes' in x.lower() else 0)"
   ]
  },
  {
   "cell_type": "code",
   "execution_count": 189,
   "metadata": {},
   "outputs": [],
   "source": [
    "# MPNST\n",
    "symptoms[target_symptoms[10]] = symptoms[target_symptoms[10]].apply(lambda x: 1 if 'yes' in x.lower() else 0)"
   ]
  },
  {
   "cell_type": "code",
   "execution_count": 190,
   "metadata": {},
   "outputs": [],
   "source": [
    "# Sphenoid Wing Dysplasia\n",
    "symptoms[target_symptoms[11]] = symptoms[target_symptoms[11]].apply(lambda x: 1 if 'yes' in x.lower() else 0)"
   ]
  },
  {
   "cell_type": "code",
   "execution_count": 191,
   "metadata": {},
   "outputs": [],
   "source": [
    "# Osteoporosis\n",
    "symptoms[target_symptoms[12]] = symptoms[target_symptoms[12]].apply(lambda x: 1 if 'yes' in x.lower() else 0)"
   ]
  },
  {
   "cell_type": "code",
   "execution_count": 192,
   "metadata": {},
   "outputs": [],
   "source": [
    "# Scolosis\n",
    "symptoms[target_symptoms[13]] = symptoms[target_symptoms[13]].apply(lambda x: 1 if 'yes' in x.lower() else 0)"
   ]
  },
  {
   "cell_type": "code",
   "execution_count": null,
   "metadata": {},
   "outputs": [],
   "source": []
  },
  {
   "cell_type": "code",
   "execution_count": null,
   "metadata": {},
   "outputs": [],
   "source": []
  }
 ],
 "metadata": {
  "kernelspec": {
   "display_name": "Python 3",
   "language": "python",
   "name": "python3"
  },
  "language_info": {
   "codemirror_mode": {
    "name": "ipython",
    "version": 3
   },
   "file_extension": ".py",
   "mimetype": "text/x-python",
   "name": "python",
   "nbconvert_exporter": "python",
   "pygments_lexer": "ipython3",
   "version": "3.7.4"
  }
 },
 "nbformat": 4,
 "nbformat_minor": 4
}
