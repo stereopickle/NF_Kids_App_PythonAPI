{
 "cells": [
  {
   "cell_type": "markdown",
   "metadata": {},
   "source": [
    "# Data Preprocessing\n",
    "\n",
    "This document runs a basic data cleaning of existing patient registry in order to formulate appropriate classification algorithm and to create a clean dataset to feed as training data. "
   ]
  },
  {
   "cell_type": "code",
   "execution_count": 112,
   "metadata": {},
   "outputs": [],
   "source": [
    "import pandas as pd\n",
    "import numpy as np\n",
    "import matplotlib.pyplot as plt\n",
    "%matplotlib inline"
   ]
  },
  {
   "cell_type": "code",
   "execution_count": 113,
   "metadata": {},
   "outputs": [],
   "source": [
    "df = pd.read_excel('data/NF Registry NF1 092420 v2.xls', sheet_name = 'Data')"
   ]
  },
  {
   "cell_type": "code",
   "execution_count": 114,
   "metadata": {},
   "outputs": [],
   "source": [
    "refs = pd.read_excel('data/NF Registry NF1 092420 v2.xls', sheet_name = 'Report')"
   ]
  },
  {
   "cell_type": "code",
   "execution_count": 115,
   "metadata": {},
   "outputs": [],
   "source": [
    "keys = pd.read_csv('data/keys.csv', index_col=0)"
   ]
  },
  {
   "cell_type": "markdown",
   "metadata": {},
   "source": [
    "Remove the patient ID given there is no duplicates."
   ]
  },
  {
   "cell_type": "code",
   "execution_count": 116,
   "metadata": {},
   "outputs": [],
   "source": [
    "df = df.drop('Patient Id', axis = 1)"
   ]
  },
  {
   "cell_type": "code",
   "execution_count": 117,
   "metadata": {},
   "outputs": [
    {
     "name": "stdout",
     "output_type": "stream",
     "text": [
      "8223 patients data\n"
     ]
    }
   ],
   "source": [
    "print(df.shape[0], 'patients data')"
   ]
  },
  {
   "cell_type": "markdown",
   "metadata": {},
   "source": [
    "## Subset\n",
    "We are only interested in the symptom information."
   ]
  },
  {
   "cell_type": "code",
   "execution_count": 118,
   "metadata": {},
   "outputs": [],
   "source": [
    "symptoms = df.iloc[:, 30:-2]"
   ]
  },
  {
   "cell_type": "code",
   "execution_count": 119,
   "metadata": {},
   "outputs": [],
   "source": [
    "symptoms['pain'] = np.where(df['Has Pain'] == True, 'yes', 'no')"
   ]
  },
  {
   "cell_type": "code",
   "execution_count": 120,
   "metadata": {},
   "outputs": [],
   "source": [
    "symptoms = symptoms.fillna('')"
   ]
  },
  {
   "cell_type": "code",
   "execution_count": 121,
   "metadata": {},
   "outputs": [],
   "source": [
    "drop_list = ['Gt Blood Done',\n",
    " 'Gt Confirmed Nf1',\n",
    " 'Nf Severity',\n",
    " 'Spots Where',\n",
    " 'Itching Details',\n",
    " 'Itching Treatment',\n",
    " 'Rx Response',\n",
    " 'Oral Medication',\n",
    " 'Cream',\n",
    " 'Ketotifen',\n",
    " 'Turmeric',\n",
    " 'Vitamin',\n",
    " 'Other',\n",
    " 'Age Neurofibromas Develop',\n",
    " 'Nf Treated',\n",
    " 'Plexiforms Nf Locations',\n",
    " 'Plexiform Nf Rx',\n",
    " 'Spinal Nf Rx',\n",
    " 'Cognitive Interventions',\n",
    " 'Cognitive Therapy',\n",
    " 'Optic Glioma Age',\n",
    " 'Optic Glioma Rx',\n",
    " 'Mpnst Diagnosed Age',\n",
    " 'Mpnst Rx',\n",
    " 'Osteoporosis Rx',\n",
    " 'Scolosis Type',\n",
    " 'Scolosis Rx',\n",
    " 'Bone Bowing Confirmed',\n",
    " 'Bone Bowing Rx',\n",
    " 'Alternative Medicines',\n",
    " 'Alternative Medicines List',\n",
    " 'Family Nf1',\n",
    " 'Family Members Nf',\n",
    " 'Bc Age',\n",
    " 'Bc Rx',\n",
    " 'Pregnancy',\n",
    " 'Pregnancy Nf',\n",
    " 'Ct Nf1 Participation',\n",
    " 'Ct Symptoms Rx',\n",
    " 'Ct Date Enrolled',\n",
    " 'Other Ct Treatment',\n",
    " 'Research Nf1',\n",
    " 'Test Date',\n",
    " 'Gene',\n",
    " 'Source Tested',\n",
    " 'Source Tumor',\n",
    " 'Test Method',\n",
    " 'Category',\n",
    " 'Std Nomenclature',\n",
    " 'Start Exon',\n",
    " 'Nucleotide',\n",
    " 'Amin Acid',\n",
    " 'Pathogenicity',\n",
    " 'Frame']"
   ]
  },
  {
   "cell_type": "code",
   "execution_count": 122,
   "metadata": {},
   "outputs": [],
   "source": [
    "# symptom criteria with multiple answers\n",
    "expand_list = [\n",
    " 'Plexiforms Problems',\n",
    " 'Adhd',\n",
    " 'Has Cvs Problems',\n",
    " 'Has Cyst Tumor',\n",
    " 'Growth Hormonal Problems',\n",
    " 'Has Cns Problems',\n",
    " 'Vision Changes']"
   ]
  },
  {
   "cell_type": "code",
   "execution_count": 123,
   "metadata": {},
   "outputs": [],
   "source": [
    "# symptom criteria with boolean answers\n",
    "yes_list = ['Has Spots',\n",
    " 'Freckles Armpit',\n",
    " 'Freckles Groin',\n",
    " 'Has Itching',\n",
    " 'Plexiform Nf',\n",
    " 'Plexiforms Visible',\n",
    " 'Spinal Nf',\n",
    " 'Has Cognitive Difficulties',\n",
    " 'Has Autism Disorder',\n",
    " 'Optic Glioma Diagnosed',\n",
    " 'Lisch Nodules',\n",
    " 'Mpnst',\n",
    " 'Sphenoid Wing Dysplasia',\n",
    " 'Fractures',\n",
    " 'Osteoporosis',\n",
    " 'Bone Bowing',\n",
    " 'Breast Cancer', \n",
    " 'pain', \n",
    " 'Cutaneous Nf No', \n",
    " 'Scolosis']"
   ]
  },
  {
   "cell_type": "markdown",
   "metadata": {},
   "source": [
    "#### Drop list\n",
    "Remove all non-symptom columns"
   ]
  },
  {
   "cell_type": "code",
   "execution_count": 124,
   "metadata": {},
   "outputs": [],
   "source": [
    "symptoms = symptoms.drop(drop_list, axis = 1)"
   ]
  },
  {
   "cell_type": "markdown",
   "metadata": {},
   "source": [
    "#### Yes list\n",
    "If existing columns are just yes or no, convert them to be binary."
   ]
  },
  {
   "cell_type": "code",
   "execution_count": 125,
   "metadata": {},
   "outputs": [],
   "source": [
    "def just_yes(series_):\n",
    "    return series_.apply(lambda x: 1 if 'yes' in x.lower() else 0)"
   ]
  },
  {
   "cell_type": "code",
   "execution_count": 126,
   "metadata": {},
   "outputs": [],
   "source": [
    "symptoms[yes_list] = symptoms[yes_list].apply(lambda x: just_yes(x))"
   ]
  },
  {
   "cell_type": "markdown",
   "metadata": {},
   "source": [
    "#### Expand list\n",
    "For the rest, we will look at them individually."
   ]
  },
  {
   "cell_type": "code",
   "execution_count": 127,
   "metadata": {},
   "outputs": [
    {
     "name": "stdout",
     "output_type": "stream",
     "text": [
      "['Plexiforms Problems', 'Adhd', 'Has Cvs Problems', 'Has Cyst Tumor', 'Growth Hormonal Problems', 'Has Cns Problems', 'Vision Changes']\n"
     ]
    }
   ],
   "source": [
    "print(expand_list)"
   ]
  },
  {
   "cell_type": "code",
   "execution_count": 128,
   "metadata": {},
   "outputs": [],
   "source": [
    "# plexiforms problems\n",
    "symptoms['bowel or bladder control problem'] = \\\n",
    "symptoms['Plexiforms Problems'].apply(lambda x: 1 if 'bowel or bladder control' in x.lower() else 0)\n",
    "symptoms['breathing problem'] = symptoms['Plexiforms Problems'].apply(lambda x: 1 \n",
    "                                                                      if 'breathing' in x.lower() else 0)\n",
    "symptoms['Problem with movement'] = symptoms['Plexiforms Problems'].apply(lambda x: 1 \n",
    "                                                                          if 'movement or ability to walk' \n",
    "                                                                          in x.lower() else 0)\n",
    "symptoms['Numbness'] = symptoms['Plexiforms Problems'].apply(lambda x: 1 \n",
    "                                                             if 'numbness' in x.lower() else 0)\n",
    "symptoms = symptoms.drop('Plexiforms Problems', axis = 1)"
   ]
  },
  {
   "cell_type": "code",
   "execution_count": 129,
   "metadata": {},
   "outputs": [],
   "source": [
    "# ADHD: divide into learning_disability, attention_issue, and ADD/ADHD\n",
    "symptoms['learning disabilities'] = symptoms['Adhd'].apply(lambda x: 1 \n",
    "                                                           if 'learning disabilities' in x.lower() else 0)\n",
    "symptoms['attention issues'] = symptoms['Adhd'].apply(lambda x: 1 \n",
    "                                                      if 'attention issues' in x.lower() else 0)\n",
    "symptoms['ADD_ADHD'] = symptoms['Adhd'].apply(lambda x: 1 \n",
    "                                              if 'ADD' in x.lower() else 0)\n",
    "symptoms = symptoms.drop('Adhd', axis = 1)"
   ]
  },
  {
   "cell_type": "code",
   "execution_count": 130,
   "metadata": {},
   "outputs": [],
   "source": [
    "# Has Cvs Problems\n",
    "# CVS: heart murmur, vascular or blood vessel issues, high blood pressure, moya moya, heart defect, pulmonic stenosis, \n",
    "# heart valve problems, renal artery stenosis\n",
    "\n",
    "cvs_types = ['heart murmur', 'vascular or blood vessel issues', 'high blood pressure', \n",
    "             'moya moya', 'heart defect', 'pulmonic stenosis', 'heart valve problems', 'renal artery stenosis']\n",
    "\n",
    "for typ in cvs_types: \n",
    "    symptoms[typ] = symptoms['Has Cvs Problems'].apply(lambda x: 1 if typ in x.lower() else 0)\n",
    "    \n",
    "symptoms = symptoms.drop('Has Cvs Problems', axis = 1)"
   ]
  },
  {
   "cell_type": "code",
   "execution_count": 131,
   "metadata": {},
   "outputs": [],
   "source": [
    "# Has Cyst Tumor\n",
    "cyst_tumor_types = ['adrenal tumor', 'bone cysts', 'brain tumor', 'breast cancer', 'gist', \n",
    "                    'gastrointestinal stromal tumors', 'glomus tumors', 'leukemia']\n",
    "\n",
    "for typ in cyst_tumor_types: \n",
    "    symptoms[typ] = symptoms['Has Cyst Tumor'].apply(lambda x: 1 if typ in x.lower() else 0)\n",
    "    \n",
    "symptoms = symptoms.drop('Has Cyst Tumor', axis = 1)"
   ]
  },
  {
   "cell_type": "code",
   "execution_count": 132,
   "metadata": {},
   "outputs": [],
   "source": [
    "# growth hormonal problems\n",
    "hormonal_types = ['Chewing/swallowing problems',\n",
    "                  'Constipation',\n",
    "                  'Early onset of puberty (prior to the age of 8)',\n",
    "                  'Hormonal imbalance that affected pregnancy or birth control',\n",
    "                  'Large head size',\n",
    "                  'Late onset of puberty (after the age of 17)',\n",
    "                  'Over (hyper) or under (hypo) active thyroid',\n",
    "                  'Poor weight gain in childhood',\n",
    "                  'Reflux or gastroesophageal reflux (GERD)',\n",
    "                  'Short stature']\n",
    "for typ in hormonal_types: \n",
    "    symptoms[typ] = symptoms['Growth Hormonal Problems'].apply(lambda x: 1 if typ in x else 0)\n",
    "    \n",
    "symptoms = symptoms.drop('Growth Hormonal Problems', axis = 1)"
   ]
  },
  {
   "cell_type": "code",
   "execution_count": 133,
   "metadata": {},
   "outputs": [],
   "source": [
    "# Has Cns Problems\n",
    "cns_types = ['Anxiety',\n",
    "             'Arthritis',\n",
    "             'Depression',\n",
    "             'Difficulties with social interactions',\n",
    "             'Fatigue',\n",
    "             'Headaches or migraines',\n",
    "             'Hydrocephalus (extra fluid or \"water on the brain\")',\n",
    "             'Joint pain',\n",
    "             'Loose (hyperextensible) joints',\n",
    "             'Muscle tone or coordination issues',\n",
    "             'Other mental health diagnosis',\n",
    "             'Seizures or epilepsy',\n",
    "             'Sleep disturbances']\n",
    "\n",
    "for typ in cns_types: \n",
    "    symptoms[typ] = symptoms['Has Cns Problems'].apply(lambda x: 1 if typ in x else 0)\n",
    "\n",
    "symptoms = symptoms.drop('Has Cns Problems', axis = 1)"
   ]
  },
  {
   "cell_type": "code",
   "execution_count": 134,
   "metadata": {},
   "outputs": [],
   "source": [
    "# vision changes\n",
    "symptoms['Vision Changes'] = [1 \n",
    "                              if x in ['Severe changes', 'Mild changes', 'Moderate changes'] \n",
    "                              else 0 for x in symptoms['Vision Changes'] ]"
   ]
  },
  {
   "cell_type": "code",
   "execution_count": 135,
   "metadata": {},
   "outputs": [],
   "source": [
    "# there are two breast cancer columns, combine them\n",
    "symptoms['Breast Cancer'] = np.where(symptoms['Breast Cancer'] + symptoms['breast cancer'] == 0, 0, 1)\n",
    "symptoms = symptoms.drop('breast cancer', axis = 1)"
   ]
  },
  {
   "cell_type": "code",
   "execution_count": 136,
   "metadata": {},
   "outputs": [],
   "source": [
    "# combine two gist columns\n",
    "symptoms['gastrointestinal stromal tumors'] = np.where(symptoms['gastrointestinal stromal tumors'] + symptoms['gist'] == 0, 0, 1)\n",
    "symptoms = symptoms.drop('gist', axis = 1)"
   ]
  },
  {
   "cell_type": "markdown",
   "metadata": {},
   "source": [
    "For the sake of this particular dataset, we will combine similar ones that's separated by location (Spots / Freckles) and add in some other ones that may come up even though not directly related to the NF."
   ]
  },
  {
   "cell_type": "code",
   "execution_count": 137,
   "metadata": {},
   "outputs": [],
   "source": [
    "symptoms.loc[:, 'Spots'] = np.where(symptoms['Has Spots'] + symptoms['Freckles Armpit'] + symptoms['Freckles Groin'] > 0, 1, 0)"
   ]
  },
  {
   "cell_type": "code",
   "execution_count": 138,
   "metadata": {},
   "outputs": [],
   "source": [
    "symptoms = symptoms.drop(['Has Spots', 'Freckles Armpit', 'Freckles Groin'], axis = 1)"
   ]
  },
  {
   "cell_type": "code",
   "execution_count": 139,
   "metadata": {},
   "outputs": [],
   "source": [
    "symptoms.loc[:, 'Heart Problem'] = np.where(symptoms['heart murmur'] + \\\n",
    "                                            symptoms['heart defect'] + \\\n",
    "                                            symptoms['heart valve problems'] > 0, 1, 0)"
   ]
  },
  {
   "cell_type": "code",
   "execution_count": 140,
   "metadata": {},
   "outputs": [],
   "source": [
    "# adding a few more columns\n",
    "symptoms.loc[:, 'Fever'] = 0\n",
    "symptoms.loc[:, 'Nosebleed'] = 0"
   ]
  },
  {
   "cell_type": "code",
   "execution_count": 142,
   "metadata": {},
   "outputs": [],
   "source": [
    "labels = {'Has Itching': 'Itching',\n",
    " 'Cutaneous Nf No': 'Cutaneous Neurofibromas', \n",
    " 'Plexiform Nf': 'Plexiform Neurofibromas', \n",
    " 'Plexiforms Visible': 'Visible Plexiform Neurofibromas',\n",
    " 'Spinal Nf': 'Spinal Neurofibromas', \n",
    " 'Has Cognitive Difficulties': 'Cognitive Difficulties', \n",
    " 'Has Autism Disorder': 'Autism Spectrum Disorder',\n",
    " 'Optic Glioma Diagnosed': 'Optic Glioma', \n",
    " 'Vision Changes': 'Vision Changes', \n",
    " 'Lisch Nodules': 'Lisch Nodules', \n",
    " 'Mpnst': 'Malignant Peripheral Nerve Sheath Tumor (MPNST)',\n",
    " 'Sphenoid Wing Dysplasia': 'Sphenoid Wing Dysplasia', \n",
    " 'Fractures': 'Fractures', \n",
    " 'Osteoporosis': 'Osteoporosis', \n",
    " 'Scolosis': 'Scoliosis',\n",
    " 'Bone Bowing': 'Bone Bowing', \n",
    " 'Breast Cancer': 'Breast Cancer', \n",
    " 'pain': 'Pain',\n",
    " 'bowel or bladder control problem': 'Bowel or bladder control problems', \n",
    " 'breathing problem': 'Breathing problems',\n",
    " 'Problem with movement': 'Problem with movement', \n",
    " 'Numbness': 'Numbness', \n",
    " 'learning disabilities': 'Learning difficulties',\n",
    " 'attention issues': 'Attention issues', \n",
    " 'ADD_ADHD': 'ADD or ADHD', \n",
    " 'Heart Problem': 'Heart Problem', \n",
    " 'heart murmur': 'Heart murmur',\n",
    " 'vascular or blood vessel issues': 'Vascular or blood vessel issues',\n",
    " 'high blood pressure': 'High blood pressure', \n",
    " 'moya moya': 'Moyamoya',\n",
    " 'heart defect': 'Heart defect',\n",
    " 'pulmonic stenosis': 'Pulmonic Stenosis',\n",
    " 'heart valve problems': 'Heart valve problems',\n",
    " 'renal artery stenosis': 'Renal artery stenosis',\n",
    " 'adrenal tumor': 'Adrenal tumor',\n",
    " 'bone cysts': 'Bone cysts', \n",
    " 'brain tumor': 'Brain tumor',\n",
    " 'gastrointestinal stromal tumors': 'Gastrointestinal stromal tumors (GISTs)',\n",
    " 'glomus tumors': 'Glomus tumors',\n",
    " 'leukemia': 'Leukemia',\n",
    " 'Chewing/swallowing problems': 'Chewing or swallowing problems', \n",
    " 'Constipation': 'Constipation',\n",
    " 'Early onset of puberty (prior to the age of 8)': 'Early puberty',\n",
    " 'Hormonal imbalance that affected pregnancy or birth control': 'Hormonal imbalance',\n",
    " 'Large head size': 'Large head size',\n",
    " 'Late onset of puberty (after the age of 17)': 'Late puberty',\n",
    " 'Over (hyper) or under (hypo) active thyroid': 'Hyper or hypoactive thyroid',\n",
    " 'Poor weight gain in childhood': 'Poor weight gain',\n",
    " 'Reflux or gastroesophageal reflux (GERD)': 'Gastroesophageal reflux', \n",
    " 'Short stature': 'Short stature',\n",
    " 'Anxiety': 'Anxiety',\n",
    " 'Arthritis': 'Arthritis',\n",
    " 'Depression': 'Depression', \n",
    " 'Difficulties with social interactions': 'Difficulties with social interactions',\n",
    " 'Fatigue': 'Fatigue', \n",
    " 'Headaches or migraines': 'Headaches or migraines',\n",
    " 'Hydrocephalus (extra fluid or \"water on the brain\")': 'Hydrocephalus',\n",
    " 'Joint pain': 'Joint pain',\n",
    " 'Loose (hyperextensible) joints': 'Loose joints', \n",
    " 'Muscle tone or coordination issues': 'Muscle coordination issues',\n",
    " 'Other mental health diagnosis': 'Other mental health problems', \n",
    " 'Seizures or epilepsy': 'Seizures or epilepsy',\n",
    " 'Sleep disturbances': 'Sleep disturbances', \n",
    " 'Fever': 'Fever',\n",
    " 'Spots': 'Spots', \n",
    " 'Nosebleed': 'Nosebleed'}"
   ]
  },
  {
   "cell_type": "code",
   "execution_count": 144,
   "metadata": {},
   "outputs": [],
   "source": [
    "symptoms = symptoms.rename(columns = labels)"
   ]
  },
  {
   "cell_type": "code",
   "execution_count": 145,
   "metadata": {},
   "outputs": [
    {
     "data": {
      "text/html": [
       "<div>\n",
       "<style scoped>\n",
       "    .dataframe tbody tr th:only-of-type {\n",
       "        vertical-align: middle;\n",
       "    }\n",
       "\n",
       "    .dataframe tbody tr th {\n",
       "        vertical-align: top;\n",
       "    }\n",
       "\n",
       "    .dataframe thead th {\n",
       "        text-align: right;\n",
       "    }\n",
       "</style>\n",
       "<table border=\"1\" class=\"dataframe\">\n",
       "  <thead>\n",
       "    <tr style=\"text-align: right;\">\n",
       "      <th></th>\n",
       "      <th>Itching</th>\n",
       "      <th>Cutaneous Neurofibromas</th>\n",
       "      <th>Plexiform Neurofibromas</th>\n",
       "      <th>Visible Plexiform Neurofibromas</th>\n",
       "      <th>Spinal Neurofibromas</th>\n",
       "      <th>Cognitive Difficulties</th>\n",
       "      <th>Autism Spectrum Disorder</th>\n",
       "      <th>Optic Glioma</th>\n",
       "      <th>Vision Changes</th>\n",
       "      <th>Lisch Nodules</th>\n",
       "      <th>...</th>\n",
       "      <th>Joint pain</th>\n",
       "      <th>Loose joints</th>\n",
       "      <th>Muscle coordination issues</th>\n",
       "      <th>Other mental health problems</th>\n",
       "      <th>Seizures or epilepsy</th>\n",
       "      <th>Sleep disturbances</th>\n",
       "      <th>Spots</th>\n",
       "      <th>Heart Problem</th>\n",
       "      <th>Fever</th>\n",
       "      <th>Nosebleed</th>\n",
       "    </tr>\n",
       "  </thead>\n",
       "  <tbody>\n",
       "    <tr>\n",
       "      <th>0</th>\n",
       "      <td>0</td>\n",
       "      <td>1</td>\n",
       "      <td>0</td>\n",
       "      <td>0</td>\n",
       "      <td>0</td>\n",
       "      <td>1</td>\n",
       "      <td>0</td>\n",
       "      <td>0</td>\n",
       "      <td>0</td>\n",
       "      <td>0</td>\n",
       "      <td>...</td>\n",
       "      <td>0</td>\n",
       "      <td>0</td>\n",
       "      <td>0</td>\n",
       "      <td>0</td>\n",
       "      <td>0</td>\n",
       "      <td>0</td>\n",
       "      <td>1</td>\n",
       "      <td>1</td>\n",
       "      <td>0</td>\n",
       "      <td>0</td>\n",
       "    </tr>\n",
       "    <tr>\n",
       "      <th>1</th>\n",
       "      <td>1</td>\n",
       "      <td>1</td>\n",
       "      <td>0</td>\n",
       "      <td>0</td>\n",
       "      <td>1</td>\n",
       "      <td>0</td>\n",
       "      <td>0</td>\n",
       "      <td>0</td>\n",
       "      <td>0</td>\n",
       "      <td>0</td>\n",
       "      <td>...</td>\n",
       "      <td>0</td>\n",
       "      <td>0</td>\n",
       "      <td>0</td>\n",
       "      <td>0</td>\n",
       "      <td>0</td>\n",
       "      <td>0</td>\n",
       "      <td>1</td>\n",
       "      <td>0</td>\n",
       "      <td>0</td>\n",
       "      <td>0</td>\n",
       "    </tr>\n",
       "    <tr>\n",
       "      <th>2</th>\n",
       "      <td>1</td>\n",
       "      <td>0</td>\n",
       "      <td>0</td>\n",
       "      <td>0</td>\n",
       "      <td>0</td>\n",
       "      <td>0</td>\n",
       "      <td>0</td>\n",
       "      <td>0</td>\n",
       "      <td>0</td>\n",
       "      <td>0</td>\n",
       "      <td>...</td>\n",
       "      <td>0</td>\n",
       "      <td>0</td>\n",
       "      <td>0</td>\n",
       "      <td>0</td>\n",
       "      <td>0</td>\n",
       "      <td>0</td>\n",
       "      <td>1</td>\n",
       "      <td>1</td>\n",
       "      <td>0</td>\n",
       "      <td>0</td>\n",
       "    </tr>\n",
       "    <tr>\n",
       "      <th>3</th>\n",
       "      <td>1</td>\n",
       "      <td>1</td>\n",
       "      <td>0</td>\n",
       "      <td>0</td>\n",
       "      <td>0</td>\n",
       "      <td>0</td>\n",
       "      <td>0</td>\n",
       "      <td>0</td>\n",
       "      <td>0</td>\n",
       "      <td>1</td>\n",
       "      <td>...</td>\n",
       "      <td>0</td>\n",
       "      <td>0</td>\n",
       "      <td>0</td>\n",
       "      <td>0</td>\n",
       "      <td>0</td>\n",
       "      <td>0</td>\n",
       "      <td>1</td>\n",
       "      <td>0</td>\n",
       "      <td>0</td>\n",
       "      <td>0</td>\n",
       "    </tr>\n",
       "    <tr>\n",
       "      <th>4</th>\n",
       "      <td>1</td>\n",
       "      <td>1</td>\n",
       "      <td>0</td>\n",
       "      <td>0</td>\n",
       "      <td>0</td>\n",
       "      <td>1</td>\n",
       "      <td>0</td>\n",
       "      <td>0</td>\n",
       "      <td>0</td>\n",
       "      <td>0</td>\n",
       "      <td>...</td>\n",
       "      <td>0</td>\n",
       "      <td>0</td>\n",
       "      <td>0</td>\n",
       "      <td>0</td>\n",
       "      <td>0</td>\n",
       "      <td>0</td>\n",
       "      <td>1</td>\n",
       "      <td>0</td>\n",
       "      <td>0</td>\n",
       "      <td>0</td>\n",
       "    </tr>\n",
       "  </tbody>\n",
       "</table>\n",
       "<p>5 rows × 66 columns</p>\n",
       "</div>"
      ],
      "text/plain": [
       "   Itching  Cutaneous Neurofibromas  Plexiform Neurofibromas  \\\n",
       "0        0                        1                        0   \n",
       "1        1                        1                        0   \n",
       "2        1                        0                        0   \n",
       "3        1                        1                        0   \n",
       "4        1                        1                        0   \n",
       "\n",
       "   Visible Plexiform Neurofibromas  Spinal Neurofibromas  \\\n",
       "0                                0                     0   \n",
       "1                                0                     1   \n",
       "2                                0                     0   \n",
       "3                                0                     0   \n",
       "4                                0                     0   \n",
       "\n",
       "   Cognitive Difficulties  Autism Spectrum Disorder  Optic Glioma  \\\n",
       "0                       1                         0             0   \n",
       "1                       0                         0             0   \n",
       "2                       0                         0             0   \n",
       "3                       0                         0             0   \n",
       "4                       1                         0             0   \n",
       "\n",
       "   Vision Changes  Lisch Nodules  ...  Joint pain  Loose joints  \\\n",
       "0               0              0  ...           0             0   \n",
       "1               0              0  ...           0             0   \n",
       "2               0              0  ...           0             0   \n",
       "3               0              1  ...           0             0   \n",
       "4               0              0  ...           0             0   \n",
       "\n",
       "   Muscle coordination issues  Other mental health problems  \\\n",
       "0                           0                             0   \n",
       "1                           0                             0   \n",
       "2                           0                             0   \n",
       "3                           0                             0   \n",
       "4                           0                             0   \n",
       "\n",
       "   Seizures or epilepsy  Sleep disturbances  Spots  Heart Problem  Fever  \\\n",
       "0                     0                   0      1              1      0   \n",
       "1                     0                   0      1              0      0   \n",
       "2                     0                   0      1              1      0   \n",
       "3                     0                   0      1              0      0   \n",
       "4                     0                   0      1              0      0   \n",
       "\n",
       "   Nosebleed  \n",
       "0          0  \n",
       "1          0  \n",
       "2          0  \n",
       "3          0  \n",
       "4          0  \n",
       "\n",
       "[5 rows x 66 columns]"
      ]
     },
     "execution_count": 145,
     "metadata": {},
     "output_type": "execute_result"
    }
   ],
   "source": [
    "symptoms.head(5)"
   ]
  },
  {
   "cell_type": "code",
   "execution_count": 146,
   "metadata": {},
   "outputs": [],
   "source": [
    "# save symptoms\n",
    "symptoms.to_csv('data/symptoms_existing_data.csv')"
   ]
  },
  {
   "cell_type": "code",
   "execution_count": null,
   "metadata": {},
   "outputs": [],
   "source": []
  }
 ],
 "metadata": {
  "kernelspec": {
   "display_name": "Python 3",
   "language": "python",
   "name": "python3"
  },
  "language_info": {
   "codemirror_mode": {
    "name": "ipython",
    "version": 3
   },
   "file_extension": ".py",
   "mimetype": "text/x-python",
   "name": "python",
   "nbconvert_exporter": "python",
   "pygments_lexer": "ipython3",
   "version": "3.7.4"
  }
 },
 "nbformat": 4,
 "nbformat_minor": 4
}
